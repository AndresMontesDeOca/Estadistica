{
 "cells": [
  {
   "cell_type": "markdown",
   "id": "db85598d",
   "metadata": {},
   "source": [
    "# Clase Estadistica #2"
   ]
  },
  {
   "cell_type": "code",
   "execution_count": 1,
   "id": "4b5be917",
   "metadata": {},
   "outputs": [],
   "source": [
    "import numpy as np\n",
    "import pandas as pd\n",
    "import seaborn as sns\n",
    "from fractions import Fraction\n",
    "\n",
    "# Machete\n",
    "# P(AyB) = P(A)*P(B_A) # Eventos Dependientes\n",
    "# P(AyB) = P(A)*P(B) # Eventos Independientes\n",
    "# P(AuB) = P(A) + P(B) - P(AyB)\n",
    "# P(AyB) = P(A) + P(B) - P(AuB)\n",
    "# P(A_B) = np.divide(P(AyB), P(B)) # Bayes!!!!\n",
    "# P(A) = P(U1)*P(A/U1) + P(U2)*P(A/U2) + P(U3)*P(A/U3)\n",
    "# A = A_U1*U1 + A_U2*U2 + A_U3*U3\n",
    "# 3 Eventos:\n",
    "    # P(E1uE2uE3) = P(E1) + P(E2) + P(E3) - P(E1yE2) - P(E1yE3) - P(E2yE3) + P(E1yE2yE3) # Inclusivo\n",
    "    # P(E1uE2uE3) = P(E1) + P(E2) + P(E3) - 2P(E1yE2) - 2P(E1yE3) - 2P(E2yE3) + 3P(E1yE2yE3) # Exclusivo\n",
    "    \n",
    "# P(A_B) = np.divide(P(AyB), P(B)) # Bayes!!!!\n",
    "# P(AyB) = P(A_B)*P(B)  # Eventos Dependientes\n",
    "# P(AuB) = P(A) + P(B) - P(AyB)\n",
    "# P(X) = P(X_U1)*P(U1)*+ P(X_U2)*P(U2) + P(X_U3)*P(U3) "
   ]
  },
  {
   "cell_type": "code",
   "execution_count": 2,
   "id": "c1a34ea2",
   "metadata": {},
   "outputs": [
    {
     "name": "stdout",
     "output_type": "stream",
     "text": [
      "Independencia Estadistica: False\n"
     ]
    },
    {
     "data": {
      "text/html": [
       "<div>\n",
       "<style scoped>\n",
       "    .dataframe tbody tr th:only-of-type {\n",
       "        vertical-align: middle;\n",
       "    }\n",
       "\n",
       "    .dataframe tbody tr th {\n",
       "        vertical-align: top;\n",
       "    }\n",
       "\n",
       "    .dataframe thead th {\n",
       "        text-align: right;\n",
       "    }\n",
       "</style>\n",
       "<table border=\"1\" class=\"dataframe\">\n",
       "  <thead>\n",
       "    <tr style=\"text-align: right;\">\n",
       "      <th></th>\n",
       "      <th>B</th>\n",
       "      <th>B~</th>\n",
       "      <th>Totales</th>\n",
       "    </tr>\n",
       "  </thead>\n",
       "  <tbody>\n",
       "    <tr>\n",
       "      <th>A</th>\n",
       "      <td>0.294</td>\n",
       "      <td>0.081</td>\n",
       "      <td>0.375</td>\n",
       "    </tr>\n",
       "    <tr>\n",
       "      <th>A~</th>\n",
       "      <td>0.614</td>\n",
       "      <td>0.011</td>\n",
       "      <td>0.625</td>\n",
       "    </tr>\n",
       "    <tr>\n",
       "      <th>Totales</th>\n",
       "      <td>0.908</td>\n",
       "      <td>0.092</td>\n",
       "      <td>1.000</td>\n",
       "    </tr>\n",
       "  </tbody>\n",
       "</table>\n",
       "</div>"
      ],
      "text/plain": [
       "             B     B~  Totales\n",
       "A        0.294  0.081    0.375\n",
       "A~       0.614  0.011    0.625\n",
       "Totales  0.908  0.092    1.000"
      ]
     },
     "metadata": {},
     "output_type": "display_data"
    }
   ],
   "source": [
    "def generar_tabla_prob(A, B, AyB):\n",
    "    nB = 1 - B\n",
    "    nA = 1 - A\n",
    "    nAyB = B - AyB\n",
    "    AynB = A - AyB\n",
    "    nAynB = nB - AynB\n",
    "    B_serie = pd.Series([AyB, nAyB, AyB+nAyB], name='B')\n",
    "    nB_serie = pd.Series([AynB, nAynB, AynB+nAynB], name='B~')\n",
    "    tot_serie = pd.Series([AyB+AynB, nAyB+nAynB, 1], name='Totales')\n",
    "    result = pd.concat([B_serie, nB_serie, tot_serie], axis=1)\n",
    "    result.rename(index={0:'A', 1:'A~', 2:'Totales'}, inplace=True)\n",
    "    print('Independencia Estadistica:', np.round(AyB, 4) == np.round(A*B, 4)) # Arrastre errores redondeo\n",
    "    return result\n",
    "\n",
    "# Prueba\n",
    "A = .375\n",
    "B = .908\n",
    "AyB = .294\n",
    "    \n",
    "display(generar_tabla_prob(A, B, AyB))"
   ]
  },
  {
   "cell_type": "code",
   "execution_count": 3,
   "id": "1c281f01",
   "metadata": {},
   "outputs": [
    {
     "data": {
      "text/html": [
       "<div>\n",
       "<style scoped>\n",
       "    .dataframe tbody tr th:only-of-type {\n",
       "        vertical-align: middle;\n",
       "    }\n",
       "\n",
       "    .dataframe tbody tr th {\n",
       "        vertical-align: top;\n",
       "    }\n",
       "\n",
       "    .dataframe thead th {\n",
       "        text-align: right;\n",
       "    }\n",
       "</style>\n",
       "<table border=\"1\" class=\"dataframe\">\n",
       "  <thead>\n",
       "    <tr style=\"text-align: right;\">\n",
       "      <th></th>\n",
       "      <th>A</th>\n",
       "      <th>B</th>\n",
       "      <th>C</th>\n",
       "      <th>TOT</th>\n",
       "    </tr>\n",
       "  </thead>\n",
       "  <tbody>\n",
       "    <tr>\n",
       "      <th>X</th>\n",
       "      <td>0.12</td>\n",
       "      <td>0.21</td>\n",
       "      <td>0.125</td>\n",
       "      <td>0.455</td>\n",
       "    </tr>\n",
       "    <tr>\n",
       "      <th>nX</th>\n",
       "      <td>0.28</td>\n",
       "      <td>0.14</td>\n",
       "      <td>0.125</td>\n",
       "      <td>0.545</td>\n",
       "    </tr>\n",
       "    <tr>\n",
       "      <th>Totales</th>\n",
       "      <td>0.40</td>\n",
       "      <td>0.35</td>\n",
       "      <td>0.250</td>\n",
       "      <td>1.000</td>\n",
       "    </tr>\n",
       "  </tbody>\n",
       "</table>\n",
       "</div>"
      ],
      "text/plain": [
       "            A     B      C    TOT\n",
       "X        0.12  0.21  0.125  0.455\n",
       "nX       0.28  0.14  0.125  0.545\n",
       "Totales  0.40  0.35  0.250  1.000"
      ]
     },
     "metadata": {},
     "output_type": "display_data"
    }
   ],
   "source": [
    "def generar_tabla_prob_3(A, B, C, X_A, X_B, X_C):\n",
    "    AyX = X_A*A\n",
    "    ByX = X_B*B\n",
    "    CyX = X_C*C\n",
    "    AynX = A - AyX\n",
    "    BynX = B - ByX\n",
    "    CynX = C - CyX\n",
    "    X = AyX + ByX + CyX\n",
    "    nX = 1 - X\n",
    "    \n",
    "    # Le doy forma DF\n",
    "    A_serie = pd.Series([AyX, AynX, A], name='A')\n",
    "    B_serie = pd.Series([ByX, BynX, B], name='B')\n",
    "    C_serie = pd.Series([CyX, CynX, C], name='C')\n",
    "    TOT_serie = pd.Series([X, nX, 1], name='TOT')\n",
    "    result = pd.concat([A_serie, B_serie, C_serie, TOT_serie], axis=1)\n",
    "    result.rename(index={0:'X', 1:'nX', 2:'Totales'}, inplace=True)\n",
    "#     print('Independencia Estadistica:', np.round(AyB, 4) == np.round(A*B, 4)) # Como se calcula aca?\n",
    "    return result\n",
    "\n",
    "# Prueba\n",
    "A = .4\n",
    "B = .35\n",
    "C = .25\n",
    "X_A = .3\n",
    "X_B = .6\n",
    "X_C = .5\n",
    "    \n",
    "display(generar_tabla_prob_3(A, B, C, X_A, X_B, X_C))"
   ]
  },
  {
   "cell_type": "markdown",
   "id": "5f00a01d",
   "metadata": {},
   "source": [
    "## Ejercicios de la Guia"
   ]
  },
  {
   "cell_type": "markdown",
   "id": "86c47e77",
   "metadata": {},
   "source": [
    "#### Ejercicio #1"
   ]
  },
  {
   "cell_type": "code",
   "execution_count": 4,
   "id": "6b40d068",
   "metadata": {},
   "outputs": [],
   "source": [
    "import numpy as np\n",
    "import pandas as pd\n",
    "import seaborn as sns\n",
    "from fractions import Fraction\n",
    "\n",
    "# Cara = 1, Seca = 0\n",
    "# CCC\n",
    "# SCC\n",
    "# CSC\n",
    "# SSC\n",
    "# CCS\n",
    "# SCS\n",
    "# CSS\n",
    "# SSS\n",
    "\n",
    "espacio_muestral = pd.Series([(1, 1, 1), (0, 1, 1), (1, 0, 1), (0, 0, 1),  \\\n",
    "                      (1, 1, 0), (0, 1, 0), (1, 0, 0), (0, 0, 0)])\n",
    "\n",
    "n = len(espacio_muestral)\n",
    "\n",
    "# Completo las tres mascaras en celdas independientes, sino no se por que no funciona"
   ]
  },
  {
   "cell_type": "code",
   "execution_count": 5,
   "id": "e0556aec",
   "metadata": {},
   "outputs": [
    {
     "name": "stdout",
     "output_type": "stream",
     "text": [
      "0    (1, 1, 1)\n",
      "1    (0, 1, 1)\n",
      "2    (1, 0, 1)\n",
      "4    (1, 1, 0)\n",
      "dtype: object\n",
      "Probabilidad A: 0.5\n"
     ]
    }
   ],
   "source": [
    "# Evento A\n",
    "mask_A = []\n",
    "\n",
    "for x in espacio_muestral:\n",
    "    if(np.sum(x)>=2):\n",
    "        mask_A.append(True)\n",
    "    else:\n",
    "        mask_A.append(False)\n",
    "\n",
    "# Calculo probabilidad A\n",
    "PA = len(espacio_muestral[mask_A])/n\n",
    "\n",
    "# Muestro resultados\n",
    "print(espacio_muestral[mask_A])\n",
    "print('Probabilidad A:', PA)"
   ]
  },
  {
   "cell_type": "code",
   "execution_count": 6,
   "id": "77b1b3c2",
   "metadata": {},
   "outputs": [
    {
     "name": "stdout",
     "output_type": "stream",
     "text": [
      "0    (1, 1, 1)\n",
      "2    (1, 0, 1)\n",
      "dtype: object\n",
      "Probabilidad B: 0.25\n"
     ]
    }
   ],
   "source": [
    "# Evento B\n",
    "mask_B = []\n",
    "\n",
    "for x in espacio_muestral:\n",
    "    if(np.logical_and(x[0]==1, x[2]==1)):\n",
    "        mask_B.append(True)\n",
    "    else:\n",
    "        mask_B.append(False)\n",
    "        \n",
    "# Calculo probabilidad B\n",
    "PB = len(espacio_muestral[mask_B])/n\n",
    "\n",
    "# Muestro resultados\n",
    "print(espacio_muestral[mask_B])\n",
    "print('Probabilidad B:', PB)"
   ]
  },
  {
   "cell_type": "code",
   "execution_count": 7,
   "id": "4e88ad3d",
   "metadata": {
    "scrolled": true
   },
   "outputs": [
    {
     "name": "stdout",
     "output_type": "stream",
     "text": [
      "2    (1, 0, 1)\n",
      "3    (0, 0, 1)\n",
      "6    (1, 0, 0)\n",
      "7    (0, 0, 0)\n",
      "dtype: object\n",
      "Probabilidad C: 0.5\n"
     ]
    }
   ],
   "source": [
    "# Evento C\n",
    "mask_C = []\n",
    "\n",
    "for x in espacio_muestral:\n",
    "    if(x[1]==0):\n",
    "        mask_C.append(True)\n",
    "    else:\n",
    "        mask_C.append(False)\n",
    "        \n",
    "# Calculo probabilidad C\n",
    "PC = len(espacio_muestral[mask_C])/n\n",
    "\n",
    "# Muestro resultados\n",
    "print(espacio_muestral[mask_C])\n",
    "print('Probabilidad C:', PC)"
   ]
  },
  {
   "cell_type": "markdown",
   "id": "9de618ba",
   "metadata": {},
   "source": [
    "#### Ejercicio #2"
   ]
  },
  {
   "cell_type": "code",
   "execution_count": 8,
   "id": "6a84c18f",
   "metadata": {},
   "outputs": [
    {
     "name": "stdout",
     "output_type": "stream",
     "text": [
      "0     (1, 1)\n",
      "1     (1, 2)\n",
      "2     (1, 3)\n",
      "3     (1, 4)\n",
      "4     (1, 5)\n",
      "5     (1, 6)\n",
      "6     (2, 1)\n",
      "7     (2, 2)\n",
      "8     (2, 3)\n",
      "9     (2, 4)\n",
      "10    (2, 5)\n",
      "11    (2, 6)\n",
      "12    (3, 1)\n",
      "13    (3, 2)\n",
      "14    (3, 3)\n",
      "15    (3, 4)\n",
      "16    (3, 5)\n",
      "17    (3, 6)\n",
      "18    (4, 1)\n",
      "19    (4, 2)\n",
      "20    (4, 3)\n",
      "21    (4, 4)\n",
      "22    (4, 5)\n",
      "23    (4, 6)\n",
      "24    (5, 1)\n",
      "25    (5, 2)\n",
      "26    (5, 3)\n",
      "27    (5, 4)\n",
      "28    (5, 5)\n",
      "29    (5, 6)\n",
      "30    (6, 1)\n",
      "31    (6, 2)\n",
      "32    (6, 3)\n",
      "33    (6, 4)\n",
      "34    (6, 5)\n",
      "35    (6, 6)\n",
      "dtype: object\n"
     ]
    }
   ],
   "source": [
    "import numpy as np\n",
    "import pandas as pd\n",
    "import seaborn as sns\n",
    "from fractions import Fraction\n",
    "\n",
    "# Creo el espacio muestral\n",
    "D_values = range(1, 7)\n",
    "tuples = []\n",
    "\n",
    "for i in D_values:\n",
    "    for j in D_values:     \n",
    "        tuple = (i, j)\n",
    "        tuples.append(tuple)\n",
    "\n",
    "espacio_muestral = pd.Series(tuples) # Lo conviuerto en Serie\n",
    "print(espacio_muestral)"
   ]
  },
  {
   "cell_type": "code",
   "execution_count": 9,
   "id": "48cc024e",
   "metadata": {},
   "outputs": [
    {
     "name": "stdout",
     "output_type": "stream",
     "text": [
      "Probabilidad: 0.9166666666666666\n"
     ]
    }
   ],
   "source": [
    "# Evento A\n",
    "mask_A = []\n",
    "\n",
    "for tuple in espacio_muestral:\n",
    "    if(tuple[0]+tuple[1]>=4):\n",
    "        mask_A.append(True)\n",
    "    else:\n",
    "        mask_A.append(False)\n",
    "\n",
    "# print('Evento A:\\n', espacio_muestral[mask_A])\n",
    "print('Probabilidad:', len(espacio_muestral[mask_A])/len(espacio_muestral))"
   ]
  },
  {
   "cell_type": "code",
   "execution_count": 10,
   "id": "7445a5cc",
   "metadata": {},
   "outputs": [
    {
     "name": "stdout",
     "output_type": "stream",
     "text": [
      "Probabilidad: 0.4166666666666667\n"
     ]
    }
   ],
   "source": [
    "# Evento B\n",
    "mask_B = []\n",
    "\n",
    "for tuple in espacio_muestral:\n",
    "    if(tuple[0]<tuple[1]):\n",
    "        mask_B.append(True)\n",
    "    else:\n",
    "        mask_B.append(False)\n",
    "        \n",
    "# print('Evento B:\\n', espacio_muestral[mask_B])\n",
    "print('Probabilidad:', len(espacio_muestral[mask_B])/len(espacio_muestral))"
   ]
  },
  {
   "cell_type": "code",
   "execution_count": 11,
   "id": "73c4b61a",
   "metadata": {},
   "outputs": [
    {
     "name": "stdout",
     "output_type": "stream",
     "text": [
      "Probabilidad: 0.16666666666666666\n"
     ]
    }
   ],
   "source": [
    "# Evento C\n",
    "mask_C = []\n",
    "\n",
    "for tuple in espacio_muestral:\n",
    "    if(tuple[1]==3):\n",
    "        mask_C.append(True)\n",
    "    else:\n",
    "        mask_C.append(False)\n",
    "        \n",
    "# print('Evento C:\\n', espacio_muestral[mask_B])\n",
    "print('Probabilidad:', len(espacio_muestral[mask_C])/len(espacio_muestral))"
   ]
  },
  {
   "cell_type": "markdown",
   "id": "00956cd5",
   "metadata": {},
   "source": [
    "#### Ejercicio #3"
   ]
  },
  {
   "cell_type": "code",
   "execution_count": 12,
   "id": "894e29a5",
   "metadata": {},
   "outputs": [
    {
     "name": "stdout",
     "output_type": "stream",
     "text": [
      "a: 0.2857142857142857\n",
      "b: 0.2857142857142857\n",
      "c: 0.5714285714285714\n"
     ]
    }
   ],
   "source": [
    "PN = 3/7\n",
    "PB = 4/7\n",
    "\n",
    "D = 7*6\n",
    "\n",
    "NN = (3*2)/D\n",
    "NB = (3*4)/D\n",
    "BN = (4*3)/D\n",
    "BB = (4*3)/D\n",
    "\n",
    "a = BB\n",
    "b = BN\n",
    "c = BN + NB\n",
    "\n",
    "print('a:', a)\n",
    "print('b:', b)\n",
    "print('c:', c)"
   ]
  },
  {
   "cell_type": "markdown",
   "id": "046845e0",
   "metadata": {},
   "source": [
    "#### Ejercicio #4"
   ]
  },
  {
   "cell_type": "code",
   "execution_count": 13,
   "id": "2680e141",
   "metadata": {},
   "outputs": [
    {
     "name": "stdout",
     "output_type": "stream",
     "text": [
      "0     (1, 1)\n",
      "1     (1, 2)\n",
      "2     (1, 3)\n",
      "3     (1, 4)\n",
      "4     (1, 5)\n",
      "5     (1, 6)\n",
      "6     (2, 1)\n",
      "7     (2, 2)\n",
      "8     (2, 3)\n",
      "9     (2, 4)\n",
      "10    (2, 5)\n",
      "11    (2, 6)\n",
      "12    (3, 1)\n",
      "13    (3, 2)\n",
      "14    (3, 3)\n",
      "15    (3, 4)\n",
      "16    (3, 5)\n",
      "17    (3, 6)\n",
      "18    (4, 1)\n",
      "19    (4, 2)\n",
      "20    (4, 3)\n",
      "21    (4, 4)\n",
      "22    (4, 5)\n",
      "23    (4, 6)\n",
      "24    (5, 1)\n",
      "25    (5, 2)\n",
      "26    (5, 3)\n",
      "27    (5, 4)\n",
      "28    (5, 5)\n",
      "29    (5, 6)\n",
      "30    (6, 1)\n",
      "31    (6, 2)\n",
      "32    (6, 3)\n",
      "33    (6, 4)\n",
      "34    (6, 5)\n",
      "35    (6, 6)\n",
      "dtype: object\n"
     ]
    }
   ],
   "source": [
    "# Creo el espacio muestral\n",
    "D_values = range(1, 7)\n",
    "tuples = []\n",
    "\n",
    "for i in D_values:\n",
    "    for j in D_values:     \n",
    "        tuple = (i, j)\n",
    "        tuples.append(tuple)\n",
    "\n",
    "espacio_muestral = pd.Series(tuples) # Lo conviuerto en Serie\n",
    "print(espacio_muestral)\n",
    "\n",
    "# Creo las condiciones mas abajo"
   ]
  },
  {
   "cell_type": "code",
   "execution_count": 14,
   "id": "5b309c86",
   "metadata": {},
   "outputs": [
    {
     "name": "stdout",
     "output_type": "stream",
     "text": [
      "3     (1, 4)\n",
      "5     (1, 6)\n",
      "8     (2, 3)\n",
      "10    (2, 5)\n",
      "13    (3, 2)\n",
      "15    (3, 4)\n",
      "18    (4, 1)\n",
      "20    (4, 3)\n",
      "25    (5, 2)\n",
      "30    (6, 1)\n",
      "dtype: object\n",
      "Prob: 0.2777777777777778\n"
     ]
    }
   ],
   "source": [
    "# Solo ejercicio d\n",
    "\n",
    "mask = []\n",
    "for x in espacio_muestral:\n",
    "#     print(x)\n",
    "    if(np.logical_or(x[0]+x[1]==5, x[0]+x[1]==7)):\n",
    "        mask.append(True)\n",
    "    else:\n",
    "        mask.append(False)\n",
    "        \n",
    "print(espacio_muestral[mask])\n",
    "print('Prob:', len(espacio_muestral[mask])/len(espacio_muestral))"
   ]
  },
  {
   "cell_type": "markdown",
   "id": "fa8baa2d",
   "metadata": {},
   "source": [
    "#### Ejercicio #5"
   ]
  },
  {
   "cell_type": "code",
   "execution_count": 15,
   "id": "4ee597ed",
   "metadata": {},
   "outputs": [
    {
     "name": "stdout",
     "output_type": "stream",
     "text": [
      "Independencia Estadistica: False\n"
     ]
    },
    {
     "data": {
      "text/html": [
       "<div>\n",
       "<style scoped>\n",
       "    .dataframe tbody tr th:only-of-type {\n",
       "        vertical-align: middle;\n",
       "    }\n",
       "\n",
       "    .dataframe tbody tr th {\n",
       "        vertical-align: top;\n",
       "    }\n",
       "\n",
       "    .dataframe thead th {\n",
       "        text-align: right;\n",
       "    }\n",
       "</style>\n",
       "<table border=\"1\" class=\"dataframe\">\n",
       "  <thead>\n",
       "    <tr style=\"text-align: right;\">\n",
       "      <th></th>\n",
       "      <th>B</th>\n",
       "      <th>B~</th>\n",
       "      <th>Totales</th>\n",
       "    </tr>\n",
       "  </thead>\n",
       "  <tbody>\n",
       "    <tr>\n",
       "      <th>A</th>\n",
       "      <td>0.294</td>\n",
       "      <td>0.081</td>\n",
       "      <td>0.375</td>\n",
       "    </tr>\n",
       "    <tr>\n",
       "      <th>A~</th>\n",
       "      <td>0.614</td>\n",
       "      <td>0.011</td>\n",
       "      <td>0.625</td>\n",
       "    </tr>\n",
       "    <tr>\n",
       "      <th>Totales</th>\n",
       "      <td>0.908</td>\n",
       "      <td>0.092</td>\n",
       "      <td>1.000</td>\n",
       "    </tr>\n",
       "  </tbody>\n",
       "</table>\n",
       "</div>"
      ],
      "text/plain": [
       "             B     B~  Totales\n",
       "A        0.294  0.081    0.375\n",
       "A~       0.614  0.011    0.625\n",
       "Totales  0.908  0.092    1.000"
      ]
     },
     "metadata": {},
     "output_type": "display_data"
    },
    {
     "name": "stdout",
     "output_type": "stream",
     "text": [
      "P(A/B): 0.3237885462555065\n",
      "P(B/A): 0.7839999999999998\n"
     ]
    },
    {
     "data": {
      "text/plain": [
       "0.29399999999999993"
      ]
     },
     "execution_count": 15,
     "metadata": {},
     "output_type": "execute_result"
    }
   ],
   "source": [
    "PA = .375\n",
    "PB = .908\n",
    "PAuB = .989\n",
    "\n",
    "# P(AuB) = P(A) + P(B) - P(AyB)\n",
    "# P(A_B) = np.divide(P(AyB), P(B))\n",
    "\n",
    "# Calculo la interseccion\n",
    "PAyB = PA + PB - PAuB\n",
    "\n",
    "# Muestro la tabla\n",
    "display(generar_tabla_prob(PA, PB, PAyB))\n",
    "\n",
    "# Calculo y muestro condicionales\n",
    "PA_B = np.divide(PAyB, PB)\n",
    "PB_A = np.divide(PAyB, PA)\n",
    "print('P(A/B):', PA_B)\n",
    "print('P(B/A):', PB_A)\n",
    "PAyB"
   ]
  },
  {
   "cell_type": "code",
   "execution_count": 16,
   "id": "0215c4c1",
   "metadata": {},
   "outputs": [],
   "source": [
    "# Machete\n",
    "# P(AyB) = P(A)*P(B_A) # Eventos Dependientes\n",
    "# P(AyB) = P(A)*P(B) # Eventos Independientes\n",
    "# P(AuB) = P(A) + P(B) - P(AyB)\n",
    "# P(AyB) = P(A) + P(B) - P(AuB)\n",
    "# P(A_B) = np.divide(P(AyB), P(B))\n",
    "# P(A) = P(A/U1)*P(U1) + P(A/U2)*P(U2) + P(A/U3)*P(U3) -\n",
    "# A = A_U1*U1 + A_U2*U2 + A_U3*U3\n",
    "# 3 Eventos:\n",
    "    # P(E1uE2uE3) = P(E1) + P(E2) + P(E3) - P(E1yE2) - P(E1yE3) - P(E2yE3) + P(E1yE2yE3) # Inclusivo\n",
    "    # P(E1uE2uE3) = P(E1) + P(E2) + P(E3) - 2P(E1yE2) - 2P(E1yE3) - 2P(E2yE3) + 3P(E1yE2yE3) # Exclusivo\n",
    "    "
   ]
  },
  {
   "cell_type": "markdown",
   "id": "e44f2b65",
   "metadata": {},
   "source": [
    "#### Ejercicio #7"
   ]
  },
  {
   "cell_type": "code",
   "execution_count": 17,
   "id": "0b69ba5b",
   "metadata": {},
   "outputs": [
    {
     "data": {
      "text/plain": [
       "0.125"
      ]
     },
     "execution_count": 17,
     "metadata": {},
     "output_type": "execute_result"
    }
   ],
   "source": [
    "A = .5\n",
    "B = .25\n",
    "C = .125\n",
    "\n",
    "AyB = A*B # Ind\n",
    "ByC = B*C #Ind\n",
    "B_A = np.divide(AyB, A)\n",
    "AyC = A*B_A\n",
    "\n",
    "# A+B+C-2*AyB - 2*AyC - 2*ByC + 3*\n",
    "AyC"
   ]
  },
  {
   "cell_type": "markdown",
   "id": "f7152b02",
   "metadata": {},
   "source": [
    "#### Ejercicio #8"
   ]
  },
  {
   "cell_type": "code",
   "execution_count": 18,
   "id": "51710c8b",
   "metadata": {},
   "outputs": [
    {
     "name": "stdout",
     "output_type": "stream",
     "text": [
      "a: 0.30683810637054354\n",
      "b: 0.9327878433664524\n",
      "c: 0.7415254237288136\n"
     ]
    }
   ],
   "source": [
    "V = 25/60\n",
    "M = 35/60\n",
    "\n",
    "# Demoniador comun 60 * 59 * 58\n",
    "Denominador = 60*59*58\n",
    "\n",
    "MMM = (35*34*33)/Denominador\n",
    "VMM = (25*35*34)/Denominador\n",
    "MVM = (35*25*34)/Denominador\n",
    "VVM = (25*24*35)/Denominador\n",
    "MMV = (35*34*25)/Denominador\n",
    "VMV = (25*35*24)/Denominador\n",
    "MVV = (35*25*24)/Denominador\n",
    "VVV = (25*24*23)/Denominador\n",
    "\n",
    "a = MVV + VMV + VVM\n",
    "b = MMM + VMM + MVM + VVM + MMV + VMV + MVV\n",
    "c = VMM + MVM + VVM + MMV + VMV + MVV\n",
    "print('a:', a)\n",
    "print('b:', b)\n",
    "print('c:', c)"
   ]
  },
  {
   "cell_type": "markdown",
   "id": "11c061f4",
   "metadata": {},
   "source": [
    "#### Ejercicio #9"
   ]
  },
  {
   "cell_type": "code",
   "execution_count": 19,
   "id": "8849577c",
   "metadata": {
    "scrolled": true
   },
   "outputs": [
    {
     "data": {
      "text/html": [
       "<div>\n",
       "<style scoped>\n",
       "    .dataframe tbody tr th:only-of-type {\n",
       "        vertical-align: middle;\n",
       "    }\n",
       "\n",
       "    .dataframe tbody tr th {\n",
       "        vertical-align: top;\n",
       "    }\n",
       "\n",
       "    .dataframe thead th {\n",
       "        text-align: right;\n",
       "    }\n",
       "</style>\n",
       "<table border=\"1\" class=\"dataframe\">\n",
       "  <thead>\n",
       "    <tr style=\"text-align: right;\">\n",
       "      <th></th>\n",
       "      <th>VB</th>\n",
       "      <th>VM</th>\n",
       "      <th>VB</th>\n",
       "      <th>TOT</th>\n",
       "    </tr>\n",
       "  </thead>\n",
       "  <tbody>\n",
       "    <tr>\n",
       "      <th>RB</th>\n",
       "      <td>20</td>\n",
       "      <td>20</td>\n",
       "      <td>23</td>\n",
       "      <td>63</td>\n",
       "    </tr>\n",
       "    <tr>\n",
       "      <th>RM</th>\n",
       "      <td>32</td>\n",
       "      <td>30</td>\n",
       "      <td>5</td>\n",
       "      <td>67</td>\n",
       "    </tr>\n",
       "    <tr>\n",
       "      <th>RA</th>\n",
       "      <td>2</td>\n",
       "      <td>3</td>\n",
       "      <td>15</td>\n",
       "      <td>20</td>\n",
       "    </tr>\n",
       "    <tr>\n",
       "      <th>TOT</th>\n",
       "      <td>54</td>\n",
       "      <td>53</td>\n",
       "      <td>43</td>\n",
       "      <td>150</td>\n",
       "    </tr>\n",
       "  </tbody>\n",
       "</table>\n",
       "</div>"
      ],
      "text/plain": [
       "     VB  VM  VB  TOT\n",
       "RB   20  20  23   63\n",
       "RM   32  30   5   67\n",
       "RA    2   3  15   20\n",
       "TOT  54  53  43  150"
      ]
     },
     "metadata": {},
     "output_type": "display_data"
    },
    {
     "data": {
      "text/html": [
       "<div>\n",
       "<style scoped>\n",
       "    .dataframe tbody tr th:only-of-type {\n",
       "        vertical-align: middle;\n",
       "    }\n",
       "\n",
       "    .dataframe tbody tr th {\n",
       "        vertical-align: top;\n",
       "    }\n",
       "\n",
       "    .dataframe thead th {\n",
       "        text-align: right;\n",
       "    }\n",
       "</style>\n",
       "<table border=\"1\" class=\"dataframe\">\n",
       "  <thead>\n",
       "    <tr style=\"text-align: right;\">\n",
       "      <th></th>\n",
       "      <th>VB</th>\n",
       "      <th>VM</th>\n",
       "      <th>VB</th>\n",
       "      <th>TOT</th>\n",
       "    </tr>\n",
       "  </thead>\n",
       "  <tbody>\n",
       "    <tr>\n",
       "      <th>RB</th>\n",
       "      <td>0.13</td>\n",
       "      <td>0.13</td>\n",
       "      <td>0.15</td>\n",
       "      <td>0.42</td>\n",
       "    </tr>\n",
       "    <tr>\n",
       "      <th>RM</th>\n",
       "      <td>0.21</td>\n",
       "      <td>0.20</td>\n",
       "      <td>0.03</td>\n",
       "      <td>0.45</td>\n",
       "    </tr>\n",
       "    <tr>\n",
       "      <th>RA</th>\n",
       "      <td>0.01</td>\n",
       "      <td>0.02</td>\n",
       "      <td>0.10</td>\n",
       "      <td>0.13</td>\n",
       "    </tr>\n",
       "    <tr>\n",
       "      <th>TOT</th>\n",
       "      <td>0.36</td>\n",
       "      <td>0.35</td>\n",
       "      <td>0.29</td>\n",
       "      <td>1.00</td>\n",
       "    </tr>\n",
       "  </tbody>\n",
       "</table>\n",
       "</div>"
      ],
      "text/plain": [
       "       VB    VM    VB   TOT\n",
       "RB   0.13  0.13  0.15  0.42\n",
       "RM   0.21  0.20  0.03  0.45\n",
       "RA   0.01  0.02  0.10  0.13\n",
       "TOT  0.36  0.35  0.29  1.00"
      ]
     },
     "metadata": {},
     "output_type": "display_data"
    }
   ],
   "source": [
    "# Genero los nombres de las columnas y de indices\n",
    "index_names_old = [0, 1, 2] # No pude hacerlo de otra forma\n",
    "index_names_new = ['RB', 'RM', 'RA']\n",
    "\n",
    "# Genero las columnas que van a crear el DF\n",
    "column_VB = pd.Series([20, 32, 2], name='VB')\n",
    "column_VM = pd.Series([20, 30, 3], name='VM')\n",
    "column_VA = pd.Series([23, 5, 15], name='VB')\n",
    "\n",
    "# Genero el DF y renombro\n",
    "data = pd.DataFrame(pd.concat([column_VB, column_VM, column_VA], axis=1))\n",
    "index_dict = dict(zip(index_names_old, index_names_new))\n",
    "data.rename(mapper=index_dict, axis=0, inplace=True)\n",
    "\n",
    "# Agrego los totales INDEX\n",
    "tot_series = pd.Series(data.sum(), name='TOT')\n",
    "data = data.append(tot_series)\n",
    "\n",
    "# Agrego los totales COLUMNS\n",
    "data.loc[:, 'TOT'] = data.apply(lambda x: x.sum(), axis=1)\n",
    "\n",
    "# Sumo n\n",
    "n = data.loc['TOT', 'TOT']\n",
    "\n",
    "display(data)\n",
    "display(np.round(data/n, 2))"
   ]
  },
  {
   "cell_type": "markdown",
   "id": "44ec957e",
   "metadata": {},
   "source": [
    "#### Ejercicio #11"
   ]
  },
  {
   "cell_type": "code",
   "execution_count": 20,
   "id": "276b5377",
   "metadata": {},
   "outputs": [
    {
     "name": "stdout",
     "output_type": "stream",
     "text": [
      "Independencia Estadistica: False\n"
     ]
    },
    {
     "data": {
      "text/html": [
       "<div>\n",
       "<style scoped>\n",
       "    .dataframe tbody tr th:only-of-type {\n",
       "        vertical-align: middle;\n",
       "    }\n",
       "\n",
       "    .dataframe tbody tr th {\n",
       "        vertical-align: top;\n",
       "    }\n",
       "\n",
       "    .dataframe thead th {\n",
       "        text-align: right;\n",
       "    }\n",
       "</style>\n",
       "<table border=\"1\" class=\"dataframe\">\n",
       "  <thead>\n",
       "    <tr style=\"text-align: right;\">\n",
       "      <th></th>\n",
       "      <th>B</th>\n",
       "      <th>B~</th>\n",
       "      <th>Totales</th>\n",
       "    </tr>\n",
       "  </thead>\n",
       "  <tbody>\n",
       "    <tr>\n",
       "      <th>A</th>\n",
       "      <td>0.05</td>\n",
       "      <td>0.25</td>\n",
       "      <td>0.3</td>\n",
       "    </tr>\n",
       "    <tr>\n",
       "      <th>A~</th>\n",
       "      <td>0.55</td>\n",
       "      <td>0.15</td>\n",
       "      <td>0.7</td>\n",
       "    </tr>\n",
       "    <tr>\n",
       "      <th>Totales</th>\n",
       "      <td>0.60</td>\n",
       "      <td>0.40</td>\n",
       "      <td>1.0</td>\n",
       "    </tr>\n",
       "  </tbody>\n",
       "</table>\n",
       "</div>"
      ],
      "text/plain": [
       "            B    B~  Totales\n",
       "A        0.05  0.25      0.3\n",
       "A~       0.55  0.15      0.7\n",
       "Totales  0.60  0.40      1.0"
      ]
     },
     "execution_count": 20,
     "metadata": {},
     "output_type": "execute_result"
    }
   ],
   "source": [
    "AyB = .05\n",
    "A = .3\n",
    "B = .6\n",
    "\n",
    "generar_tabla_prob(A, B, AyB)"
   ]
  },
  {
   "cell_type": "markdown",
   "id": "38fc5559",
   "metadata": {},
   "source": [
    "#### Ejercicio #12"
   ]
  },
  {
   "cell_type": "code",
   "execution_count": 21,
   "id": "beb1b70a",
   "metadata": {},
   "outputs": [
    {
     "name": "stdout",
     "output_type": "stream",
     "text": [
      "47/100\n",
      "3/10\n",
      "15/47\n"
     ]
    },
    {
     "data": {
      "text/plain": [
       "Fraction(1, 1)"
      ]
     },
     "execution_count": 21,
     "metadata": {},
     "output_type": "execute_result"
    }
   ],
   "source": [
    "# Marginales\n",
    "R1 = Fraction(5, 10)\n",
    "R2 = Fraction(3, 10)\n",
    "R3 = Fraction(2, 10)\n",
    "\n",
    "# Condicionales\n",
    "X_R1 = Fraction(2, 5)\n",
    "X_R2 = Fraction(1, 2)\n",
    "X_R3 = Fraction(3, 5)\n",
    "\n",
    "# a) - Probabilidad de que tenga caries\n",
    "X = X_R1*R1 + X_R2*R2 + X_R3*R3\n",
    "print(X)\n",
    "\n",
    "# b) - Probabilidad que sea de R2\n",
    "print(R2)\n",
    "\n",
    "# c) - Probabilidad de que tenga caries y venga de R2\n",
    "# La probabilidad de que tenga caries ya la se, solo me queda calcular la P de la interseccion*****PREGUNTAR****\n",
    "R2__X = X_R2 * R2\n",
    "R2_X = np.divide(R2__X, X)\n",
    "print(R2_X)\n",
    "R1+R2+R3 "
   ]
  },
  {
   "cell_type": "markdown",
   "id": "8d72794d",
   "metadata": {},
   "source": [
    "#### Ejercicio #13"
   ]
  },
  {
   "cell_type": "code",
   "execution_count": 22,
   "id": "c74574b9",
   "metadata": {},
   "outputs": [
    {
     "name": "stdout",
     "output_type": "stream",
     "text": [
      "Independencia Estadistica: False\n"
     ]
    },
    {
     "data": {
      "text/html": [
       "<div>\n",
       "<style scoped>\n",
       "    .dataframe tbody tr th:only-of-type {\n",
       "        vertical-align: middle;\n",
       "    }\n",
       "\n",
       "    .dataframe tbody tr th {\n",
       "        vertical-align: top;\n",
       "    }\n",
       "\n",
       "    .dataframe thead th {\n",
       "        text-align: right;\n",
       "    }\n",
       "</style>\n",
       "<table border=\"1\" class=\"dataframe\">\n",
       "  <thead>\n",
       "    <tr style=\"text-align: right;\">\n",
       "      <th></th>\n",
       "      <th>B</th>\n",
       "      <th>B~</th>\n",
       "      <th>Totales</th>\n",
       "    </tr>\n",
       "  </thead>\n",
       "  <tbody>\n",
       "    <tr>\n",
       "      <th>A</th>\n",
       "      <td>0.544</td>\n",
       "      <td>0.336</td>\n",
       "      <td>0.88</td>\n",
       "    </tr>\n",
       "    <tr>\n",
       "      <th>A~</th>\n",
       "      <td>0.096</td>\n",
       "      <td>0.024</td>\n",
       "      <td>0.12</td>\n",
       "    </tr>\n",
       "    <tr>\n",
       "      <th>Totales</th>\n",
       "      <td>0.640</td>\n",
       "      <td>0.360</td>\n",
       "      <td>1.00</td>\n",
       "    </tr>\n",
       "  </tbody>\n",
       "</table>\n",
       "</div>"
      ],
      "text/plain": [
       "             B     B~  Totales\n",
       "A        0.544  0.336     0.88\n",
       "A~       0.096  0.024     0.12\n",
       "Totales  0.640  0.360     1.00"
      ]
     },
     "metadata": {},
     "output_type": "display_data"
    },
    {
     "name": "stdout",
     "output_type": "stream",
     "text": [
      "a: 0.544\n",
      "b: 0.45599999999999996\n",
      "c: 0.6181818181818183\n"
     ]
    }
   ],
   "source": [
    "# P: Termino la Primaria\n",
    "# M: Mayor de 18 anos\n",
    "# P(AuB) = P(A) + P(B) - P(AyB) ### MACHETE\n",
    "\n",
    "M = .64\n",
    "nM = 1 - M\n",
    "P = .88\n",
    "nP = 1 - P\n",
    "\n",
    "nPyM = M*.15\n",
    "PyM = M - nPyM\n",
    "M_P = np.divide(PyM, P)\n",
    "nPynM = nP - nPyM\n",
    "\n",
    "# nPunM ????\n",
    "\n",
    "nPunM = nP + nM - nPynM\n",
    "\n",
    "\n",
    "\n",
    "tabla = generar_tabla_prob(P, M, PyM)\n",
    "display(tabla)\n",
    "\n",
    "print('a:', PyM)\n",
    "print('b:', nPunM)\n",
    "print('c:', M_P)"
   ]
  },
  {
   "cell_type": "markdown",
   "id": "169b1162",
   "metadata": {},
   "source": [
    "#### Ejercicio #14"
   ]
  },
  {
   "cell_type": "code",
   "execution_count": 23,
   "id": "75a4817f",
   "metadata": {},
   "outputs": [
    {
     "name": "stdout",
     "output_type": "stream",
     "text": [
      "a) 0.35000000000000003\n",
      "b) 0.22857142857142856\n"
     ]
    }
   ],
   "source": [
    "# 3 Eventos: ################  MACHETE\n",
    "    # P(E1uE2uE3) = P(E1) + P(E2) + P(E3) - P(E1yE2) - P(E1yE3) - P(E2yE3) + P(E1yE2uE3) # Inclusivo\n",
    "    # P(E1uE2uE3) = P(E1) + P(E2) + P(E3) - 2P(E1yE2) - 2P(E1yE3) - 2P(E2yE3) + 3P(E1yE2uE3) # Exclusivo\n",
    "\n",
    "\n",
    "\n",
    "A = .2\n",
    "B = .16\n",
    "C = .14\n",
    "\n",
    "AyB = .08\n",
    "AyC = .05\n",
    "ByC = .04\n",
    "AyByC = .02\n",
    "\n",
    "AuBuC = A+B+C-AyB-AyC-ByC+AyByC\n",
    "\n",
    "print('a)', AuBuC)\n",
    "print('b)', AyB/AuBuC)"
   ]
  },
  {
   "cell_type": "markdown",
   "id": "d4775c73",
   "metadata": {},
   "source": [
    "#### Ejercicio #16"
   ]
  },
  {
   "cell_type": "code",
   "execution_count": 24,
   "id": "898d185e",
   "metadata": {
    "scrolled": true
   },
   "outputs": [
    {
     "name": "stdout",
     "output_type": "stream",
     "text": [
      "Independencia Estadistica: False\n"
     ]
    },
    {
     "data": {
      "text/html": [
       "<div>\n",
       "<style scoped>\n",
       "    .dataframe tbody tr th:only-of-type {\n",
       "        vertical-align: middle;\n",
       "    }\n",
       "\n",
       "    .dataframe tbody tr th {\n",
       "        vertical-align: top;\n",
       "    }\n",
       "\n",
       "    .dataframe thead th {\n",
       "        text-align: right;\n",
       "    }\n",
       "</style>\n",
       "<table border=\"1\" class=\"dataframe\">\n",
       "  <thead>\n",
       "    <tr style=\"text-align: right;\">\n",
       "      <th></th>\n",
       "      <th>B</th>\n",
       "      <th>B~</th>\n",
       "      <th>Totales</th>\n",
       "    </tr>\n",
       "  </thead>\n",
       "  <tbody>\n",
       "    <tr>\n",
       "      <th>A</th>\n",
       "      <td>0.1</td>\n",
       "      <td>0.4</td>\n",
       "      <td>0.5</td>\n",
       "    </tr>\n",
       "    <tr>\n",
       "      <th>A~</th>\n",
       "      <td>0.3</td>\n",
       "      <td>0.2</td>\n",
       "      <td>0.5</td>\n",
       "    </tr>\n",
       "    <tr>\n",
       "      <th>Totales</th>\n",
       "      <td>0.4</td>\n",
       "      <td>0.6</td>\n",
       "      <td>1.0</td>\n",
       "    </tr>\n",
       "  </tbody>\n",
       "</table>\n",
       "</div>"
      ],
      "text/plain": [
       "           B   B~  Totales\n",
       "A        0.1  0.4      0.5\n",
       "A~       0.3  0.2      0.5\n",
       "Totales  0.4  0.6      1.0"
      ]
     },
     "metadata": {},
     "output_type": "display_data"
    },
    {
     "name": "stdout",
     "output_type": "stream",
     "text": [
      "a: 0.2\n",
      "b: 0.6666666666666667\n",
      "Independencia Estadistica: False\n"
     ]
    }
   ],
   "source": [
    "# # P(A_B) = np.divide(P(AyB), P(B))\n",
    "\n",
    "A = .5 # Prob Aumento de Consumo\n",
    "nA = 1 - A\n",
    "B = .4 # Prob Baja del Precio\n",
    "nB = 1 - B\n",
    "AyB = .1\n",
    "nAyB = B - AyB\n",
    "AynB = A - AyB\n",
    "nAynB = nA - nAyB\n",
    "\n",
    "\n",
    "display(generar_tabla_prob(A, B, AyB))\n",
    "\n",
    "# a) P(B_A)\n",
    "B_A = np.divide(AyB, A) # Prob condicional\n",
    "print('a:', B_A)\n",
    "\n",
    "# b) P(A_nB) # Prob de aumento de consumo / prob no baja del precio (nB)\n",
    "A_nB = np.divide(AynB, nB)\n",
    "print('b:', A_nB)\n",
    "\n",
    "# c)\n",
    "# print('Independencia Estadistica:', AyB == A*B)\n",
    "print('Independencia Estadistica:', np.round(AyB, 4) == np.round(A*B, 4)) # Arrastre errores redondeo"
   ]
  },
  {
   "cell_type": "markdown",
   "id": "f86dcb1e",
   "metadata": {},
   "source": [
    "#### Ejercicio #17"
   ]
  },
  {
   "cell_type": "code",
   "execution_count": 25,
   "id": "9c1f5cfd",
   "metadata": {
    "scrolled": true
   },
   "outputs": [
    {
     "name": "stdout",
     "output_type": "stream",
     "text": [
      "Independencia Estadistica: True\n"
     ]
    },
    {
     "data": {
      "text/html": [
       "<div>\n",
       "<style scoped>\n",
       "    .dataframe tbody tr th:only-of-type {\n",
       "        vertical-align: middle;\n",
       "    }\n",
       "\n",
       "    .dataframe tbody tr th {\n",
       "        vertical-align: top;\n",
       "    }\n",
       "\n",
       "    .dataframe thead th {\n",
       "        text-align: right;\n",
       "    }\n",
       "</style>\n",
       "<table border=\"1\" class=\"dataframe\">\n",
       "  <thead>\n",
       "    <tr style=\"text-align: right;\">\n",
       "      <th></th>\n",
       "      <th>B</th>\n",
       "      <th>B~</th>\n",
       "      <th>Totales</th>\n",
       "    </tr>\n",
       "  </thead>\n",
       "  <tbody>\n",
       "    <tr>\n",
       "      <th>A</th>\n",
       "      <td>0.1</td>\n",
       "      <td>0.4</td>\n",
       "      <td>0.5</td>\n",
       "    </tr>\n",
       "    <tr>\n",
       "      <th>A~</th>\n",
       "      <td>0.1</td>\n",
       "      <td>0.4</td>\n",
       "      <td>0.5</td>\n",
       "    </tr>\n",
       "    <tr>\n",
       "      <th>Totales</th>\n",
       "      <td>0.2</td>\n",
       "      <td>0.8</td>\n",
       "      <td>1.0</td>\n",
       "    </tr>\n",
       "  </tbody>\n",
       "</table>\n",
       "</div>"
      ],
      "text/plain": [
       "           B   B~  Totales\n",
       "A        0.1  0.4      0.5\n",
       "A~       0.1  0.4      0.5\n",
       "Totales  0.2  0.8      1.0"
      ]
     },
     "metadata": {},
     "output_type": "display_data"
    },
    {
     "name": "stdout",
     "output_type": "stream",
     "text": [
      "c:?? 0.6\n"
     ]
    }
   ],
   "source": [
    "# P(AyB) = P(A)*P(B_A) # Eventos Dependientes\n",
    "# P(AyB) = P(A)*P(B) # Eventos Independientes\n",
    "# P(AuB) = P(A) + P(B) - P(AyB)\n",
    "# P(AyB) = P(A) + P(B) - P(AuB)\n",
    "\n",
    "# P(AuB) = P(A) + P(B) - P(AyB)\n",
    "\n",
    "AyB = .1\n",
    "B = .3 - AyB\n",
    "A = .6 - AyB\n",
    "\n",
    "display(generar_tabla_prob(A, B, AyB))\n",
    "\n",
    "# c) AuB\n",
    "\n",
    "# Esta bien esto?\n",
    "AuB = A + B - AyB\n",
    "print('c:??', AuB)\n"
   ]
  },
  {
   "cell_type": "markdown",
   "id": "cb1ad622",
   "metadata": {},
   "source": [
    "#### Ejercicio #18"
   ]
  },
  {
   "cell_type": "code",
   "execution_count": 26,
   "id": "f0f5c305",
   "metadata": {},
   "outputs": [
    {
     "name": "stdout",
     "output_type": "stream",
     "text": [
      "a: 0.25\n",
      "b: 0.35\n",
      "c: 0.4\n",
      "d: 0.6699999999999999\n",
      "e: 0.17\n",
      "f: 0.07\n",
      "g: 0.32835820895522394\n"
     ]
    }
   ],
   "source": [
    "# P(A_B) = np.divide(P(AyB), P(B))\n",
    "\n",
    "A = .25\n",
    "B = .35\n",
    "C = 1 - A - B\n",
    "AyM = .68*A\n",
    "ByM = .8*B\n",
    "CyM = .55*C\n",
    "M = AyM + ByM + CyM\n",
    "nM = 1 - M\n",
    "BynM = B - ByM\n",
    "\n",
    "print('a:', A)\n",
    "print('b:', B)\n",
    "print('c:', C)\n",
    "print('d:', M)\n",
    "print('e:', AyM)\n",
    "print('f:', BynM)\n",
    "\n",
    "# g) P(C_M)\n",
    "print('g:', np.divide(CyM, M))"
   ]
  },
  {
   "cell_type": "markdown",
   "id": "b0168bf3",
   "metadata": {},
   "source": [
    "#### Ejercicio #19"
   ]
  },
  {
   "cell_type": "code",
   "execution_count": 27,
   "id": "316a9c3d",
   "metadata": {},
   "outputs": [
    {
     "data": {
      "text/html": [
       "<div>\n",
       "<style scoped>\n",
       "    .dataframe tbody tr th:only-of-type {\n",
       "        vertical-align: middle;\n",
       "    }\n",
       "\n",
       "    .dataframe tbody tr th {\n",
       "        vertical-align: top;\n",
       "    }\n",
       "\n",
       "    .dataframe thead th {\n",
       "        text-align: right;\n",
       "    }\n",
       "</style>\n",
       "<table border=\"1\" class=\"dataframe\">\n",
       "  <thead>\n",
       "    <tr style=\"text-align: right;\">\n",
       "      <th></th>\n",
       "      <th>A</th>\n",
       "      <th>B</th>\n",
       "      <th>C</th>\n",
       "      <th>TOT</th>\n",
       "    </tr>\n",
       "  </thead>\n",
       "  <tbody>\n",
       "    <tr>\n",
       "      <th>X</th>\n",
       "      <td>0.12</td>\n",
       "      <td>0.21</td>\n",
       "      <td>0.125</td>\n",
       "      <td>0.455</td>\n",
       "    </tr>\n",
       "    <tr>\n",
       "      <th>nX</th>\n",
       "      <td>0.28</td>\n",
       "      <td>0.14</td>\n",
       "      <td>0.125</td>\n",
       "      <td>0.545</td>\n",
       "    </tr>\n",
       "    <tr>\n",
       "      <th>Totales</th>\n",
       "      <td>0.40</td>\n",
       "      <td>0.35</td>\n",
       "      <td>0.250</td>\n",
       "      <td>1.000</td>\n",
       "    </tr>\n",
       "  </tbody>\n",
       "</table>\n",
       "</div>"
      ],
      "text/plain": [
       "            A     B      C    TOT\n",
       "X        0.12  0.21  0.125  0.455\n",
       "nX       0.28  0.14  0.125  0.545\n",
       "Totales  0.40  0.35  0.250  1.000"
      ]
     },
     "metadata": {},
     "output_type": "display_data"
    },
    {
     "name": "stdout",
     "output_type": "stream",
     "text": [
      "a: 0.21\n",
      "b: 0.45499999999999996\n",
      "c-regular: 0.26373626373626374\n",
      "c-extra: 0.46153846153846156\n",
      "c-premium: 0.27472527472527475\n"
     ]
    }
   ],
   "source": [
    "# P(X_R) = np.divide(P(XyR), P(R))\n",
    "\n",
    "A = .4\n",
    "B = .35\n",
    "C = .25\n",
    "X_A = .3\n",
    "X_B = .6\n",
    "X_C = .5\n",
    "\n",
    "data = generar_tabla_prob_3(A, B, C, X_A, X_B, X_C) # La guardo en un DF\n",
    "display(data)\n",
    "\n",
    "print('a:', data.loc['X', 'B'])\n",
    "print('b:', data.loc['X', 'TOT'])\n",
    "print('c-regular:', data.loc['X', 'A']/data.loc['X', 'TOT'])\n",
    "print('c-extra:', data.loc['X', 'B']/data.loc['X', 'TOT'])\n",
    "print('c-premium:', data.loc['X', 'C']/data.loc['X', 'TOT'])\n"
   ]
  },
  {
   "cell_type": "markdown",
   "id": "24a7712d",
   "metadata": {},
   "source": [
    "#### Ejercicio #20"
   ]
  },
  {
   "cell_type": "code",
   "execution_count": 28,
   "id": "62efd9dc",
   "metadata": {},
   "outputs": [],
   "source": [
    "# No me da"
   ]
  },
  {
   "cell_type": "markdown",
   "id": "6c4a5d97",
   "metadata": {},
   "source": [
    "# Otros ejercicios"
   ]
  },
  {
   "cell_type": "code",
   "execution_count": 29,
   "id": "6296e000",
   "metadata": {},
   "outputs": [
    {
     "name": "stdout",
     "output_type": "stream",
     "text": [
      "Prob Acumuladas: 1 0.9972602739726028\n",
      "Prob Acumuladas: 2 0.9917958341152187\n",
      "Prob Acumuladas: 3 0.9836440875334498\n",
      "Prob Acumuladas: 4 0.9728644263002065\n",
      "Prob Acumuladas: 5 0.9595375163508886\n",
      "Prob Acumuladas: 6 0.9437642969040246\n",
      "Prob Acumuladas: 7 0.925664707648331\n",
      "Prob Acumuladas: 8 0.9053761661108333\n",
      "Prob Acumuladas: 9 0.8830518222889223\n",
      "Prob Acumuladas: 10 0.8588586216782669\n",
      "Prob Acumuladas: 11 0.8329752111619355\n",
      "Prob Acumuladas: 12 0.8055897247675705\n",
      "Prob Acumuladas: 13 0.7768974879950269\n",
      "Prob Acumuladas: 14 0.7470986802363135\n",
      "Prob Acumuladas: 15 0.7163959947471499\n",
      "Prob Acumuladas: 16 0.6849923347034391\n",
      "Prob Acumuladas: 17 0.6530885821282104\n",
      "Prob Acumuladas: 18 0.620881473968463\n",
      "Prob Acumuladas: 19 0.5885616164194197\n",
      "Prob Acumuladas: 20 0.556311664834794\n",
      "Prob Total: 0.556311664834794\n"
     ]
    }
   ],
   "source": [
    "## Ejercicio de cumpleanos v1: Empiezo con prob del 100%, y luego voy restando los parciales\n",
    "\n",
    "n = 365\n",
    "i = 21\n",
    "i_values = range(1, i)\n",
    "prob_total = 1\n",
    "\n",
    "for i in i_values:\n",
    "    prob_total *= (n-i)/n\n",
    "    print('Prob Acumuladas:', i, prob_total)\n",
    "      \n",
    "\n",
    "print('Prob Total:', prob_total)"
   ]
  },
  {
   "cell_type": "code",
   "execution_count": 30,
   "id": "de22af33",
   "metadata": {},
   "outputs": [
    {
     "name": "stdout",
     "output_type": "stream",
     "text": [
      "Prob Parciales: 1.0\n",
      "Prob Parciales: 0.9972602739726028\n",
      "Prob Parciales: 0.9945205479452055\n",
      "Prob Parciales: 0.9917808219178083\n",
      "Prob Parciales: 0.989041095890411\n",
      "Prob Parciales: 0.9863013698630136\n",
      "Prob Parciales: 0.9835616438356164\n",
      "Prob Parciales: 0.9808219178082191\n",
      "Prob Parciales: 0.9780821917808219\n",
      "Prob Parciales: 0.9753424657534246\n",
      "Prob Parciales: 0.9726027397260274\n",
      "Prob Parciales: 0.9698630136986301\n",
      "Prob Parciales: 0.9671232876712329\n",
      "Prob Parciales: 0.9643835616438357\n",
      "Prob Parciales: 0.9616438356164384\n",
      "Prob Parciales: 0.958904109589041\n",
      "Prob Parciales: 0.9561643835616438\n",
      "Prob Parciales: 0.9534246575342465\n",
      "Prob Parciales: 0.9506849315068493\n",
      "Prob Parciales: 0.947945205479452\n",
      "Prob Parciales: 0.9452054794520548\n",
      "Prob total: 0.556311664834794\n"
     ]
    }
   ],
   "source": [
    "## Ejercicio de cumpleanos v2: Pongo las prob individuales en un vector, y luego multiplico sus elementos\n",
    "\n",
    "n = 365\n",
    "i = 21\n",
    "i_values = range(n, n-i, -1)\n",
    "probabilidades = []\n",
    "\n",
    "for i in i_values:\n",
    "    prob_parcial = i/n\n",
    "    print('Prob Parciales:', prob_parcial)\n",
    "    probabilidades.append(prob_parcial)\n",
    "\n",
    "print('Prob total:', np.prod(probabilidades))"
   ]
  },
  {
   "cell_type": "code",
   "execution_count": 31,
   "id": "a2b43ebc",
   "metadata": {},
   "outputs": [
    {
     "name": "stdout",
     "output_type": "stream",
     "text": [
      "Prob rojo: 0.625\n",
      "Prob negro: 0.375\n",
      "Probabilidad conjunta: 0.087890625\n"
     ]
    }
   ],
   "source": [
    "# Ejercicios bolitas rojas y negras\n",
    "n_rojo = 5\n",
    "n_negro = 3\n",
    "n = n_negro + n_rojo # n total es la suma de ambas\n",
    "\n",
    "# Probabilidades individuales\n",
    "p_rojo = n_rojo / n\n",
    "p_negro = n_negro / n\n",
    "print('Prob rojo:', p_rojo)\n",
    "print('Prob negro:', p_negro)\n",
    "\n",
    "# Probabilidad 2 bolitas rojas con repeticion\n",
    "cant_negras = 2\n",
    "cant_rojas = 1\n",
    "\n",
    "# Calculo las probabilidades conjuntas\n",
    "prob = np.power(p_negro, cant_negras) * np.power(p_rojo, cant_rojas)\n",
    "\n",
    "print('Probabilidad conjunta:', prob)\n"
   ]
  },
  {
   "cell_type": "code",
   "execution_count": 32,
   "id": "8423d70a",
   "metadata": {
    "scrolled": true
   },
   "outputs": [
    {
     "name": "stdout",
     "output_type": "stream",
     "text": [
      "1/3 1/3 1/3\n",
      "3/5 2/5 1\n",
      "2/3 1/3 1\n",
      "0 1\n"
     ]
    }
   ],
   "source": [
    "# Ejercicio Urnas\n",
    "# Son todas probabilidades\n",
    "\n",
    "# Urna #1\n",
    "B_U1 = Fraction(3, 5)\n",
    "R_U1 = Fraction(2, 5)\n",
    "\n",
    "# Urna #2\n",
    "B_U2 = Fraction(2, 3)\n",
    "R_U2 = Fraction(1, 3)\n",
    "# Urna #3\n",
    "B_U3 = 0\n",
    "R_U3 = 1\n",
    "\n",
    "\n",
    "# Probabilidades individuales de los jarrones\n",
    "U1 = U2 = U3 = Fraction(1, 3)\n",
    "\n",
    "print(U1, U2, U3)\n",
    "print(B_U1, R_U1, B_U1 + R_U1)\n",
    "print(B_U2, R_U2, B_U2 + R_U2)\n",
    "print(B_U3, R_U3)"
   ]
  },
  {
   "cell_type": "code",
   "execution_count": 33,
   "id": "a1e60339",
   "metadata": {},
   "outputs": [
    {
     "name": "stdout",
     "output_type": "stream",
     "text": [
      "9/20\n"
     ]
    }
   ],
   "source": [
    "#### RESUMEN FORMULAS ####\n",
    "\n",
    "# P(B) = P(B/U1)*P(U1) + P(B/U2)*P(U2) + P(B/U3)*P(U3) \n",
    "B = B_U1*U1 + B_U2*U2 + B_U3*U3\n",
    "\n",
    "# P(U1yB) = P(B/U1) * P(U1)\n",
    "U1yB = B_U1 * U1\n",
    "\n",
    "# P(U1uB) = P(U1) + P(B)\n",
    "U1uB = U1 + B\n",
    "\n",
    "# P(U1_B) = np.divide(P(U1&B), P(B))\n",
    "U1_B = np.divide(U1yB, B)\n",
    "\n",
    "\n",
    "print(Fraction(B_U1*U1, B_U2*U2 + B_U2*U2 + B_U3*U3))"
   ]
  },
  {
   "cell_type": "code",
   "execution_count": 34,
   "id": "37349355",
   "metadata": {
    "scrolled": true
   },
   "outputs": [
    {
     "name": "stdout",
     "output_type": "stream",
     "text": [
      "1/2 1/2\n",
      "1/64\n"
     ]
    }
   ],
   "source": [
    "# Ejercicio Frascos\n",
    "F1 = F2 = Fraction(1, 2)\n",
    "A_F1 = Fraction(1, 3)\n",
    "N_F1 = Fraction(2, 3)\n",
    "\n",
    "A_F2 = Fraction(2, 3)\n",
    "N_F2 = Fraction(1, 3)\n",
    "\n",
    "\n",
    "A = A_F1*F1 + A_F2*F2\n",
    "N = 1 - A\n",
    "F1__A = A_F1 * F1\n",
    "F1_A = np.divide(F1__A, A)\n",
    "\n",
    "print(A, N)\n",
    "print(N*A*A*N*A*N)"
   ]
  },
  {
   "cell_type": "code",
   "execution_count": 35,
   "id": "eb304f20",
   "metadata": {},
   "outputs": [],
   "source": [
    "#### SUMA DE RESUMENES ####\n",
    "\n",
    "# P(B) = P(B/U1)*P(U1) + P(B/U2)*P(U2) + P(B/U3)*P(U3) *******************************************************\n",
    "# B = B_U1*U1 + B_U2*U2 + B_U3*U3\n",
    "\n",
    "# P(U1yB) = P(B/U1) * P(U1)\n",
    "# U1yB = B_U1 * U1\n",
    "\n",
    "# P(U1uB) = P(U1) + P(B) - P(U1yB) # Aca se resta la conjunta\n",
    "# U1uB = U1 + B - U1yB\n",
    "\n",
    "# P(U1_B) = np.divide(P(U1&B), P(B))\n",
    "# U1_B = np.divide(U1yB, B)\n",
    "\n",
    "# Principio de la Suma: Eventos que no suceden de manera simultanea, sucede uno u otro, son excluyentes\n",
    "# Principio de la Multiplicacion: Un evento sucede a continuacion del otro. El resultado del segundo evento no depende del primero\n",
    "# P(I) = P(Ac&I) + P(Ad&I) + P(Co&I) + P(Ec&I) + P(Si&I)\n",
    "# P(I) = P(Ac)*P(I/Ac) + P(Ad)*P(I/Ad) + P(Ec)*P(I/Ec) + P(Si)*P(I/Si)\n",
    "\n",
    "# P(Ac&I) = P(Ac)*P(I/Ac)\n",
    "# P(U1/B) = np.divide(P(U1&B), P(B))\n",
    "# P(U1&B) = P(B/U1) * P(U1)\n",
    "# P(B) = P(B/U1)*P(U1) + P(B/U2)*P(U2) + P(B/U3)*P(U3)\n",
    "\n",
    "\n",
    "# Inclusivo: Se le resta una vez la interseccion, P(E1uE2) = P(E1) + P(E2) - P(E1yE2)\n",
    "# Exclusivo: Se le resta dos veces la interseccion, P(E1uE2) = P(E1) + P(E2) - 2*P(E1yE2) Sera como el .unique()???? \n",
    "# 3 Eventos:\n",
    "    # P(E1uE2uE3) = P(E1) + P(E2) + P(E3) - P(E1yE2) - P(E1yE3) - P(E2yE3) + P(E1yE2yE3) # Inclusivo\n",
    "    # P(E1uE2uE3) = P(E1) + P(E2) + P(E3) - 2P(E1yE2) - 2P(E1yE3) - 2P(E2yE3) + 3P(E1yE2yE3) # Exclusivo\n",
    "    \n",
    "# Regla del Producto:\n",
    "    # Eventos Independientes: P(E1yE2) = P(E1)*P(E2) # Suma da 1\n",
    "    # Eventos Dependientes: P(E1yE2) = P(E1)*P(E2_E1) # Suma da 1 ***************************************************************\n",
    "                        #   P(E2_E1) = np.divide(P(E1yE2), P(E1)) *******************************************************************\n",
    "\n",
    "# Con Uniones        \n",
    "# P(U1uB) = P(U1) + P(B) - P(U1yB) # Aca se resta la conjunta\n",
    "# U1uB = U1 + B - U1yB"
   ]
  }
 ],
 "metadata": {
  "kernelspec": {
   "display_name": "Python 3 (ipykernel)",
   "language": "python",
   "name": "python3"
  },
  "language_info": {
   "codemirror_mode": {
    "name": "ipython",
    "version": 3
   },
   "file_extension": ".py",
   "mimetype": "text/x-python",
   "name": "python",
   "nbconvert_exporter": "python",
   "pygments_lexer": "ipython3",
   "version": "3.7.13"
  }
 },
 "nbformat": 4,
 "nbformat_minor": 5
}
