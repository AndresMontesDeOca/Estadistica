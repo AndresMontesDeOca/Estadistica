{
 "cells": [
  {
   "cell_type": "markdown",
   "id": "acdd1caf",
   "metadata": {},
   "source": [
    "# Guia #1"
   ]
  },
  {
   "cell_type": "code",
   "execution_count": null,
   "id": "0eb9f819",
   "metadata": {},
   "outputs": [],
   "source": [
    "import numpy as np\n",
    "import pandas as pd\n",
    "from fractions import Fraction\n",
    "\n",
    "data = pd.read_excel('Data/Ejercicio #1.xlsx')\n",
    "data2 = pd.read_excel('Data/Ejercicio #2.xlsx')\n",
    "data"
   ]
  },
  {
   "cell_type": "markdown",
   "id": "3df66bae",
   "metadata": {},
   "source": [
    "### Machetes"
   ]
  },
  {
   "cell_type": "code",
   "execution_count": null,
   "id": "b8ba0837",
   "metadata": {},
   "outputs": [],
   "source": [
    "############### MACHETE ###############\n",
    "\n",
    "# Media (datos agrupados)\n",
    "# Me = (Xi*fi)/n # Intervalo de clase por frecuencia /n\n",
    "\n",
    "# Moda (datos agrupados)\n",
    "# Mo = Linf + a*fni/(fni+fii) # fni/fii: fni anterior/fii siguiente\n",
    "# Mo = Linf + 5*np.divide(1, 1+2) # = 106.67\n",
    "\n",
    "# Mediana (datps agrupados)\n",
    "# OAM = n*.5 # Quiero la Mediana # Ojo que tira error si es la primer clase (Fni==0)\n",
    "# Me = Linf + a*np.divide(OAM-Fni, fi) # Fni: Freciencia Acumulada Anterior | fi: Frecuencia Simple\n",
    "# Me = 105 + 5*np.divide(7-4, 5) # = 108\n",
    "\n",
    "\n",
    "# data = np.array([3, 4, 7, 41, 65, 74, 114])\n",
    "# Mediana (datos sin agrupar)\n",
    "# OAP = (n+1)*.5 # Busco la mediana\n",
    "# Me = X(OAP) = X(4) # Cuando el modulo de OAP es 0 (OAP%2 == 0)\n",
    "\n",
    "# Cuando cae entre dos clases, le sumo a la clase primera el porcentual de la diferencia entre ambas clases\n",
    "# Me = X(OAP-1) + (OAP%1) * [X(OAP)-X(OAP-1)] # X(3) + RESTO*[X(4)-X(3)]\n",
    "\n",
    "# Caluclo Varianza\n",
    "# S*S = np.sum(X*X)/n - Me*Me\n",
    "# CV = S/Me"
   ]
  },
  {
   "cell_type": "markdown",
   "id": "dcc4cbc7",
   "metadata": {},
   "source": [
    "### Funciones Auxiliares y Ejemplos"
   ]
  },
  {
   "cell_type": "code",
   "execution_count": null,
   "id": "2415b03d",
   "metadata": {},
   "outputs": [],
   "source": [
    "# Ejemplo de la guia\n",
    "\n",
    "ej = np.array([3, 4, 7, 41, 65, 74])\n",
    "print('Ejercicio Paises-Covid:\\n', ej)\n",
    "n = ej.size\n",
    "rate = .75 # Q3\n",
    "OAP = (n+1)*rate\n",
    "prev_class = int(OAP//1-1) # Caluclo la parte enetera y le resto 1 (indices comiencan en 0)\n",
    "next_class = prev_class + 1\n",
    "\n",
    "ej[prev_class] + (OAP%1)*(ej[next_class] - ej[prev_class])"
   ]
  },
  {
   "cell_type": "code",
   "execution_count": null,
   "id": "5178813b",
   "metadata": {},
   "outputs": [],
   "source": [
    "# Funcion que genera Tabla de Frecuencias n, y la media: Recibe DataFrame con Xi, fi\n",
    "\n",
    "# Funcion que calcula el n es lo primero\n",
    "def calcular_n(data_):\n",
    "    result = data_.fi.sum()\n",
    "    return result\n",
    "\n",
    "# Funcion que genera el DF\n",
    "def generar_tabla_frecuencias(data_):\n",
    "    # Primero genero Xi * fi\n",
    "    display(data_)\n",
    "    Xi_fi = data_.Xi * data_.fi\n",
    "    Xi_fi.name = 'Xi_fi'\n",
    "    \n",
    "    # Genero frecuencias acumuladas\n",
    "    x_ant = 0\n",
    "    Fi = []\n",
    "    for x in data_.fi:\n",
    "        Fi.append(x+x_ant)\n",
    "        x_ant += x\n",
    "    Fi = pd.Series(Fi, name='Fi')\n",
    "    \n",
    "    # Genero Serie Frecuencia Relativa y Frecuencia Acumulada\n",
    "    fri = data_.fi.apply(lambda x: Fraction(x, n))\n",
    "    fri = pd.Series(fri, name='fri')\n",
    "    Fri = Fi.apply(lambda x: Fraction(x, n))\n",
    "    Fri = pd.Series(Fri, name='Fri')\n",
    "    \n",
    "    # Concateno y devuelvo\n",
    "    result = pd.concat([data_,Xi_fi, Fi, fri, Fri], axis=1)\n",
    "    return result\n",
    "\n",
    "data = generar_tabla_frecuencias(data)\n",
    "data"
   ]
  },
  {
   "cell_type": "code",
   "execution_count": null,
   "id": "32e42132",
   "metadata": {},
   "outputs": [],
   "source": [
    "# Funcion de calculo de la media\n",
    "def calcular_media(data_):\n",
    "    result = (data_.Xi * data_.fi).sum()/n\n",
    "    return result.round(2)\n",
    "\n",
    "media = calcular_media(data)\n",
    "media"
   ]
  },
  {
   "cell_type": "code",
   "execution_count": null,
   "id": "3875e17e",
   "metadata": {},
   "outputs": [],
   "source": [
    "# Funcion que devuelve la mediana\n",
    "def calcular_mediana(data_):\n",
    "    OAM = n/2\n",
    "    i=0 \n",
    "    while data_.Fi[i]<OAM:\n",
    "         i+=1\n",
    "    \n",
    "    # Si esta justo sobre el limite, le sumo la mitad\n",
    "    if(data_.Fi[i]==OAM):\n",
    "        i+=.5\n",
    "    return i\n",
    "\n",
    "mediana = calcular_mediana(data)\n",
    "mediana"
   ]
  },
  {
   "cell_type": "code",
   "execution_count": null,
   "id": "b445a9df",
   "metadata": {},
   "outputs": [],
   "source": [
    "# Calcula la Varainza\n",
    "def calcular_varianza(data_):\n",
    "    X2_fi = pd.Series(data_.Xi*data_.Xi*data_.fi, name='X2_fi')\n",
    "    result = X2_fi.sum()/n - media*media\n",
    "    return result\n",
    "\n",
    "varianza=calcular_varianza(data)\n",
    "varianza"
   ]
  },
  {
   "cell_type": "code",
   "execution_count": null,
   "id": "ef2ca7d7",
   "metadata": {},
   "outputs": [],
   "source": [
    "# Calcula el Desvio\n",
    "def calcular_desvio(data_):\n",
    "    return np.sqrt(calcular_varianza(data_)).round(2)\n",
    "\n",
    "desvio = calcular_desvio(data)\n",
    "desvio"
   ]
  },
  {
   "cell_type": "code",
   "execution_count": null,
   "id": "92271a9a",
   "metadata": {},
   "outputs": [],
   "source": [
    "# Calcular Coeficiente Variacion\n",
    "def calcular_coeficiente_variacion(data_):\n",
    "    return np.divide(calcular_desvio(data_), media).round(2)\n",
    "\n",
    "CV = calcular_coeficiente_variacion(data)\n",
    "CV"
   ]
  },
  {
   "cell_type": "code",
   "execution_count": null,
   "id": "29498107",
   "metadata": {},
   "outputs": [],
   "source": [
    "# Funcion que devuelve el percentil especificado\n",
    "def calcular_percentil(data_, percentil_):\n",
    "    OAP=percentil_*n/100\n",
    "    i=0 \n",
    "    while data_.Fi[i]<OAP:\n",
    "         i+=1\n",
    "    \n",
    "    # Si esta justo sobre el limite, le sumo la mitad\n",
    "    if(data_.Fi[i]==OAP):\n",
    "        i+=.5\n",
    "    return i\n",
    "\n",
    "percentil = calcular_percentil(data, 25)\n",
    "percentil"
   ]
  },
  {
   "cell_type": "code",
   "execution_count": null,
   "id": "cdc2d7f4",
   "metadata": {
    "scrolled": false
   },
   "outputs": [],
   "source": [
    "def generar_tabla_frecuencias_intervalos(data_):\n",
    "    data_ = data2 # COMENTAR ESTA LINEA!!!!\n",
    "    Xi = pd.Series((data_.Xinf + data_.Xsup)/2, name='Xi')\n",
    "    Xi_fi = pd.Series(Xi*data_.fi, name='Xi_fi')\n",
    "    \n",
    "    # Para el acumulado\n",
    "    x_ant = 0\n",
    "    Fi = []\n",
    "    for x in data_.fi:\n",
    "        x_ant+=x\n",
    "        Fi.append(x_ant)\n",
    "    Fi = pd.Series(Fi, name='Fi')\n",
    "    \n",
    "    # Concateno\n",
    "    result = pd.concat([data_, Fi, Xi, Xi_fi], axis=1)\n",
    "    return result\n",
    "\n",
    "data = generar_tabla_frecuencias_intervalos(data)\n",
    "data"
   ]
  },
  {
   "cell_type": "code",
   "execution_count": null,
   "id": "94ec24c8",
   "metadata": {},
   "outputs": [],
   "source": [
    "def calcular_media_intervalo(data_):\n",
    "    return np.round(data_.Xi_fi.sum()/n, 2)\n",
    "\n",
    "media_intervalo = calcular_media_intervalo(data)\n",
    "media_intervalo"
   ]
  },
  {
   "cell_type": "code",
   "execution_count": null,
   "id": "7625578f",
   "metadata": {},
   "outputs": [],
   "source": [
    "def calcular_intervalo_modal_id(data_):\n",
    "    moda = data_.fi.max()\n",
    "    i=0\n",
    "    while data_.fi[i]!=moda:\n",
    "        i+=1\n",
    "    return i\n",
    "intervalo_modal_id = calcular_intervalo_modal_id(data)\n",
    "\n",
    "def calcular_intervalo_modal(data_):\n",
    "    return data_.iloc[calcular_intervalo_modal_id(data_)]\n",
    "\n",
    "intervalo_modal = calcular_intervalo_modal(data)\n",
    "\n",
    "print('ID:', intervalo_modal_id)\n",
    "print(intervalo_modal)"
   ]
  },
  {
   "cell_type": "code",
   "execution_count": null,
   "id": "a624cfd5",
   "metadata": {},
   "outputs": [],
   "source": [
    "def calcular_moda_intervalo(data_):\n",
    "    # Primero encuentro el intervalo modal\n",
    "    intervalo_modal_id = calcular_intervalo_modal_id(data_)\n",
    "    intervalo_modal = calcular_intervalo_modal(data_)\n",
    "    \n",
    "    # Genero las variables\n",
    "    amplitud = intervalo_modal.Xsup - intervalo_modal.Xinf\n",
    "    Xinf = intervalo_modal.Xinf\n",
    "    d1 = data_.iloc[intervalo_modal_id].fi - data_.iloc[intervalo_modal_id-1].fi\n",
    "    d2 = data_.iloc[intervalo_modal_id].fi - data_.iloc[intervalo_modal_id+1].fi\n",
    "    print(amplitud, Xinf, d1, d2)\n",
    "    \n",
    "    # Aplico la formula\n",
    "    return np.round(Xinf+amplitud*d1/(d1+d2), 2)\n",
    "\n",
    "moda_intervalo = calcular_moda_intervalo(data)\n",
    "moda_intervalo"
   ]
  },
  {
   "cell_type": "code",
   "execution_count": null,
   "id": "3782a0ab",
   "metadata": {},
   "outputs": [],
   "source": [
    "# Tambien se puede trabajar con un percentil de 50??????\n",
    "\n",
    "# def calcular_intervalo_mediano_id(data_):\n",
    "#     i=0\n",
    "#     while data_.Fi[i]<n/2:\n",
    "#         i+=1\n",
    "#     return i\n",
    "\n",
    "# intervalo_mediano_id=calcular_intervalo_mediano_id(data)\n",
    "\n",
    "# def calcular_intervalo_mediano(data_):\n",
    "#     return data_.iloc[calcular_intervalo_mediano_id(data_)]\n",
    "\n",
    "# intervalo_mediano = calcular_intervalo_mediano(data)\n",
    "\n",
    "# print('ID:', intervalo_mediano_id)\n",
    "# print(intervalo_mediano)"
   ]
  },
  {
   "cell_type": "code",
   "execution_count": null,
   "id": "91ae2cf8",
   "metadata": {},
   "outputs": [],
   "source": [
    "# Tambien se puede trabajar con un percentil de 50???????\n",
    "\n",
    "# def calcular_mediana_intervalo(data_):\n",
    "#     intervalo_mediano_id = calcular_intervalo_modal_id(data_)\n",
    "#     intercalo_mediano = calcular_intervalo_mediano(data_)\n",
    "    \n",
    "#     OAM = n/2\n",
    "#     amplitud = intervalo_mediano.Xsup - intervalo_mediano.Xinf\n",
    "#     Xinf = intervalo_mediano.Xinf\n",
    "#     fm = data_.iloc[intervalo_mediano_id].fi\n",
    "    \n",
    "#     # Si no hay acumulada anterior\n",
    "#     if (intervalo_mediano_id == 0):\n",
    "#         Fm_1=0\n",
    "#     else:\n",
    "#         Fm_1 = data_.iloc[intervalo_mediano_id-1].Fi\n",
    "        \n",
    "#     print(OAM, amplitud, Xinf, fm, Fm_1)\n",
    "   \n",
    "#     return np.round(Xinf+amplitud*(OAM-Fm_1)/fm, 2)\n",
    "\n",
    "# mediana_intervalo = calcular_mediana_intervalo(data)\n",
    "# mediana_intervalo"
   ]
  },
  {
   "cell_type": "code",
   "execution_count": null,
   "id": "6e9e30b3",
   "metadata": {},
   "outputs": [],
   "source": [
    "percentil = 50 # 50 = Mediana\n",
    "\n",
    "def calcular_intervalo_percentil_id(data_, percentil_):\n",
    "    i=0\n",
    "    while data_.Fi[i]<percentil_*n/100:\n",
    "        i+=1\n",
    "    return i\n",
    "\n",
    "intervalo_percentil_id = calcular_intervalo_percentil_id(data, percentil)\n",
    "\n",
    "def calcular_intervalo_percentil(data_, percentil_):\n",
    "    return data_.iloc[calcular_intervalo_percentil_id(data_, percentil_)]\n",
    "\n",
    "intervalo_percentil = calcular_intervalo_percentil(data, percentil)\n",
    "\n",
    "print('ID:', intervalo_percentil_id)\n",
    "intervalo_percentil"
   ]
  },
  {
   "cell_type": "code",
   "execution_count": null,
   "id": "56cd0109",
   "metadata": {},
   "outputs": [],
   "source": [
    "def calcular_percentil_intervalo(data_, percentil_):\n",
    "    intervalo_percentil_id = calcular_intervalo_percentil_id(data_, percentil_)\n",
    "    intervalo_percentil = calcular_intervalo_percentil(data_, percentil_)\n",
    "    \n",
    "    OAP = percentil_*n/100\n",
    "    amplitud=intervalo_percentil.Xsup - intervalo_percentil.Xinf\n",
    "    Xinf = intervalo_percentil.Xinf\n",
    "    fk = data_.iloc[intervalo_percentil_id].fi\n",
    "    \n",
    "    # Pregunto si es el la primer clase, ya que su acumulada seria igual a 0\n",
    "    if(intervalo_percentil_id==0):        Fk_1 = 0\n",
    "    else:\n",
    "        Fk_1 = data_.iloc[intervalo_percentil_id-1].Fi\n",
    "    \n",
    "    print(OAP, n,  amplitud, Xinf, fk, Fk_1)\n",
    "    \n",
    "    return np.round(Xinf+amplitud*(OAP-Fk_1)/fk, 2)\n",
    "    \n",
    "percentil_intervalo = calcular_percentil_intervalo(data, percentil)\n",
    "percentil_intervalo"
   ]
  },
  {
   "cell_type": "code",
   "execution_count": null,
   "id": "ad6bdbad",
   "metadata": {},
   "outputs": [],
   "source": [
    "# Alternativa sin tener que usar Mediana\n",
    "def calcular_intervalo_mediano_id(data_):\n",
    "    calcular_intervalo_percentil_id(data_, 50)\n",
    "intervalo_mediano_id=calcular_intervalo_mediano_id(data)\n",
    "# intervalo_mediano_id\n",
    "\n",
    "def calcular_intervalo_mediano(data_):\n",
    "    calcular_intervalo_percentil(data_, 50)\n",
    "intervalo_mediano = calcular_intervalo_mediano(data)\n",
    "intervalo_mediano"
   ]
  },
  {
   "cell_type": "code",
   "execution_count": null,
   "id": "aba075fb",
   "metadata": {},
   "outputs": [],
   "source": [
    "def calcular_mediana_intervalo(data_):\n",
    "    calcular_percentil_intervalo(data_, 50)\n",
    "mediana_intervalo = calcular_mediana_intervalo(data)\n",
    "mediana_intervalo"
   ]
  },
  {
   "cell_type": "markdown",
   "id": "54f816e8",
   "metadata": {},
   "source": [
    "## Ejercicios de la guia practica"
   ]
  },
  {
   "cell_type": "markdown",
   "id": "640f0cfd",
   "metadata": {},
   "source": [
    "#### Ejercicio #1"
   ]
  },
  {
   "cell_type": "code",
   "execution_count": null,
   "id": "6e02b0e4",
   "metadata": {
    "scrolled": true
   },
   "outputs": [],
   "source": [
    "# Ejercicio #1\n",
    "\n",
    "data = pd.read_excel('Data/Ej1.xlsx')\n",
    "\n",
    "display(data.head())\n",
    "display(data.describe())\n",
    "print(data.Salario.value_counts().head())"
   ]
  },
  {
   "cell_type": "code",
   "execution_count": null,
   "id": "67ba2fdb",
   "metadata": {},
   "outputs": [],
   "source": [
    "distancia_IQ = data.describe().loc['75%'] - data.describe().loc['25%']\n",
    "print('IQ3 - IQ1:', distancia_IQ)"
   ]
  },
  {
   "cell_type": "markdown",
   "id": "8bf6b595",
   "metadata": {},
   "source": [
    "#### Ejercicio #2"
   ]
  },
  {
   "cell_type": "code",
   "execution_count": null,
   "id": "97a39205",
   "metadata": {
    "scrolled": true
   },
   "outputs": [],
   "source": [
    "data = pd.read_excel('Data/Ej2.xlsx')\n",
    "display(data.head())\n",
    "display(data.describe())\n",
    "print(data.mode())"
   ]
  },
  {
   "cell_type": "markdown",
   "id": "e62432f3",
   "metadata": {},
   "source": [
    "#### Ejercicio #3"
   ]
  },
  {
   "cell_type": "code",
   "execution_count": null,
   "id": "70bc60c1",
   "metadata": {
    "scrolled": true
   },
   "outputs": [],
   "source": [
    "data = pd.read_excel('Data/Ej3.xlsx', index_col='Ano')\n",
    "data"
   ]
  },
  {
   "cell_type": "code",
   "execution_count": null,
   "id": "a7bd68f7",
   "metadata": {
    "scrolled": false
   },
   "outputs": [],
   "source": [
    "superficie_serie = data.loc['Superficie']\n",
    "produccion_serie = data.loc['Produccion']\n",
    "\n",
    "print('Superficie:\\n', superficie_serie.describe(), '\\n')\n",
    "print(superficie_serie.value_counts().head())\n",
    "print('Rango:', superficie_serie.max() - superficie_serie.min())"
   ]
  },
  {
   "cell_type": "code",
   "execution_count": null,
   "id": "1c04bbcb",
   "metadata": {},
   "outputs": [],
   "source": [
    "CV_superficie = superficie_serie.std() / superficie_serie.mean()\n",
    "CV_produccion = np.divide(produccion_serie.std(), produccion_serie.mean())\n",
    "\n",
    "print('Coeficiente Variacion Superficie:', CV_superficie.round(3))\n",
    "print('Coeficiente Variacion Produccion:', CV_produccion.round(3))"
   ]
  },
  {
   "cell_type": "markdown",
   "id": "a7304f33",
   "metadata": {},
   "source": [
    "#### Ejercicio #4"
   ]
  },
  {
   "cell_type": "code",
   "execution_count": null,
   "id": "3b766857",
   "metadata": {
    "scrolled": true
   },
   "outputs": [],
   "source": [
    "data = pd.read_excel('Data/Ej4.xlsx')\n",
    "data"
   ]
  },
  {
   "cell_type": "code",
   "execution_count": null,
   "id": "2ccef992",
   "metadata": {
    "scrolled": false
   },
   "outputs": [],
   "source": [
    "# Completo con las frecuencias\n",
    "\n",
    "data = generar_tabla_frecuencias_intervalos(data)\n",
    "display(data)"
   ]
  },
  {
   "cell_type": "code",
   "execution_count": null,
   "id": "f0eb1bff",
   "metadata": {},
   "outputs": [],
   "source": [
    "# Intervalo Mediano\n",
    "\n",
    "def agregar_mediana_columns(data_):\n",
    "    result = data_.shape[0]\n",
    "    return result\n",
    "\n",
    "\n",
    "\n",
    "agregar_mediana_columns(data)"
   ]
  },
  {
   "cell_type": "code",
   "execution_count": null,
   "id": "551bce73",
   "metadata": {},
   "outputs": [],
   "source": [
    "############### MACHETE ###############\n",
    "\n",
    "# Media (datos agrupados)\n",
    "# Me = (Xi*fi)/n # Intervalo de clase por frecuencia /n\n",
    "\n",
    "# Moda (datos agrupados)\n",
    "# Mo = Linf + a*fni/(fni+fii) # fni/fii: fni anterior/fii siguiente\n",
    "# Mo = Linf + 5*np.divide(1, 1+2) # = 106.67\n",
    "\n",
    "# Mediana (datps agrupados)\n",
    "# OAM = n*.5 # Quiero la Mediana # Ojo que tira error si es la primer clase (Fni==0)\n",
    "# Me = Linf + a*np.divide(OAM-Fni, fi) # Fni: Freciencia Acumulada Anterior | fi: Frecuencia Simple\n",
    "# Me = 105 + 5*np.divide(7-4, 5) # = 108\n",
    "\n",
    "\n",
    "# data = np.array([3, 4, 7, 41, 65, 74, 114])\n",
    "# Mediana (datos sin agrupar)\n",
    "# OAP = (n+1)*.5 # Busco la mediana\n",
    "# Me = X(OAP) = X(4) # Cuando el modulo de OAP es 0 (OAP%2 == 0)\n",
    "\n",
    "# Cuando cae entre dos clases, le sumo a la clase primera el porcentual de la diferencia entre ambas clases\n",
    "# Me = X(OAP-1) + (OAP%1) * [X(OAP)-X(OAP-1)] # X(3) + RESTO*[X(4)-X(3)]\n",
    "\n",
    "# Caluclo Varianza\n",
    "# S*S = np.sum(X*X)/n - Me*Me\n",
    "# CV = S/Me"
   ]
  }
 ],
 "metadata": {
  "kernelspec": {
   "display_name": "Python 3 (ipykernel)",
   "language": "python",
   "name": "python3"
  },
  "language_info": {
   "codemirror_mode": {
    "name": "ipython",
    "version": 3
   },
   "file_extension": ".py",
   "mimetype": "text/x-python",
   "name": "python",
   "nbconvert_exporter": "python",
   "pygments_lexer": "ipython3",
   "version": "3.10.4"
  }
 },
 "nbformat": 4,
 "nbformat_minor": 5
}
