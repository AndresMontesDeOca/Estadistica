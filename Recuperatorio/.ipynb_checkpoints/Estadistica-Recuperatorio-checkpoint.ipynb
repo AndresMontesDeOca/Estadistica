{
 "cells": [
  {
   "cell_type": "markdown",
   "id": "533e384c",
   "metadata": {},
   "source": [
    "# Recuperatorio Estadistica"
   ]
  },
  {
   "cell_type": "code",
   "execution_count": null,
   "id": "260072d3",
   "metadata": {},
   "outputs": [],
   "source": [
    "# Alumno: Andres Montes de Oca\n",
    "# Materia: Estadistica\n",
    "# Fecha Inicio: 08/02/2023"
   ]
  },
  {
   "cell_type": "code",
   "execution_count": 1,
   "id": "d4352de4",
   "metadata": {},
   "outputs": [],
   "source": [
    "from IPython.display import Image\n",
    "import numpy as np\n",
    "import pandas as pd\n",
    "import scipy.stats as st"
   ]
  }
 ],
 "metadata": {
  "kernelspec": {
   "display_name": "Python 3 (ipykernel)",
   "language": "python",
   "name": "python3"
  },
  "language_info": {
   "codemirror_mode": {
    "name": "ipython",
    "version": 3
   },
   "file_extension": ".py",
   "mimetype": "text/x-python",
   "name": "python",
   "nbconvert_exporter": "python",
   "pygments_lexer": "ipython3",
   "version": "3.10.4"
  }
 },
 "nbformat": 4,
 "nbformat_minor": 5
}
